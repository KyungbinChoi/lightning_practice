{
 "cells": [
  {
   "cell_type": "code",
   "execution_count": 1,
   "metadata": {},
   "outputs": [
    {
     "name": "stderr",
     "output_type": "stream",
     "text": [
      "/Users/a202304035/.pyenv/versions/3.10.15/lib/python3.10/site-packages/tqdm/auto.py:21: TqdmWarning: IProgress not found. Please update jupyter and ipywidgets. See https://ipywidgets.readthedocs.io/en/stable/user_install.html\n",
      "  from .autonotebook import tqdm as notebook_tqdm\n"
     ]
    }
   ],
   "source": [
    "import torch\n",
    "import torch.nn as nn\n",
    "from timm import create_model\n",
    "from torchvision import datasets, transforms\n",
    "import lightning as L\n",
    "from torch.utils.data import DataLoader, random_split\n",
    "from torchmetrics.classification import Accuracy\n",
    "from lightning.pytorch.loggers import TensorBoardLogger\n",
    "import warnings\n",
    "warnings.filterwarnings('ignore')\n",
    "\n",
    "\n",
    "DEFAULT_TRANSFORM = transforms.Compose([\n",
    "    transforms.Resize((224, 224)),  # ResNet >> 224, 224 size\n",
    "    transforms.ToTensor(),\n",
    "    transforms.Normalize(mean=[0.485, 0.456, 0.406],\n",
    "                         std=[0.229, 0.224, 0.225])\n",
    "])"
   ]
  },
  {
   "cell_type": "code",
   "execution_count": 2,
   "metadata": {},
   "outputs": [],
   "source": [
    "# PyTorch Lightning 모델 정의\n",
    "class LitCIFAR10(L.LightningModule):\n",
    "    def __init__(self, lr=0.001):\n",
    "        super().__init__()\n",
    "        self.save_hyperparameters()\n",
    "        self.model = create_model('resnet34', pretrained=True, num_classes=10)\n",
    "        # 모든 파라미터를 freeze\n",
    "        for param in self.model.parameters():\n",
    "            param.requires_grad = False\n",
    "\n",
    "        # classifier만 학습되도록 requires_grad 설정\n",
    "        for param in self.model.get_classifier().parameters():\n",
    "            param.requires_grad = True\n",
    "            \n",
    "        self.loss_fn = nn.CrossEntropyLoss()\n",
    "        self.train_acc = Accuracy(task=\"multiclass\", num_classes=10)\n",
    "        self.val_acc = Accuracy(task=\"multiclass\", num_classes=10)\n",
    "\n",
    "    def forward(self, x):\n",
    "        return self.model(x)\n",
    "\n",
    "    def training_step(self, batch, batch_idx):\n",
    "        x, y = batch\n",
    "        logits = self(x)\n",
    "        loss = self.loss_fn(logits, y)\n",
    "        acc = self.train_acc(logits, y)\n",
    "        self.log(\"train_loss\", loss, prog_bar=True)\n",
    "        self.log(\"train_acc\", acc, prog_bar=True)\n",
    "        return loss\n",
    "\n",
    "    def validation_step(self, batch, batch_idx):\n",
    "        x, y = batch\n",
    "        logits = self(x)\n",
    "        loss = self.loss_fn(logits, y)\n",
    "        acc = self.val_acc(logits, y)\n",
    "        self.log(\"val_loss\", loss, prog_bar=True)\n",
    "        self.log(\"val_acc\", acc, prog_bar=True)\n",
    "\n",
    "    def configure_optimizers(self):\n",
    "        return torch.optim.AdamW(self.parameters(), lr=self.hparams.lr)\n",
    "\n",
    "# 데이터 로딩을 위한 DataModule 정의\n",
    "class CIFAR10DataModule(L.LightningDataModule):\n",
    "    def __init__(self, data_dir=\"./data\", batch_size=256):\n",
    "        super().__init__()\n",
    "        self.data_dir = data_dir\n",
    "        self.batch_size = batch_size\n",
    "\n",
    "    def prepare_data(self):\n",
    "        datasets.CIFAR10(root=self.data_dir, train=True, download=True)\n",
    "        datasets.CIFAR10(root=self.data_dir, train=False, download=True)\n",
    "\n",
    "    def setup(self, stage=None):\n",
    "        full_train = datasets.CIFAR10(root=self.data_dir, train=True,\n",
    "                                      transform=DEFAULT_TRANSFORM)\n",
    "        self.train_set, self.val_set = random_split(full_train, [45000, 5000])\n",
    "        self.test_set = datasets.CIFAR10(root=self.data_dir, train=False,\n",
    "                                         transform=DEFAULT_TRANSFORM)\n",
    "\n",
    "    def train_dataloader(self):\n",
    "        return DataLoader(self.train_set, batch_size=self.batch_size,\n",
    "                          shuffle=True, num_workers=5)\n",
    "\n",
    "    def val_dataloader(self):\n",
    "        return DataLoader(self.val_set, batch_size=self.batch_size,\n",
    "                          shuffle=False, num_workers=4)\n",
    "\n",
    "    def test_dataloader(self):\n",
    "        return DataLoader(self.test_set, batch_size=self.batch_size,\n",
    "                          shuffle=False, num_workers=4)\n",
    "    "
   ]
  },
  {
   "cell_type": "code",
   "execution_count": 3,
   "metadata": {},
   "outputs": [
    {
     "name": "stderr",
     "output_type": "stream",
     "text": [
      "You are using the plain ModelCheckpoint callback. Consider using LitModelCheckpoint which with seamless uploading to Model registry.\n",
      "GPU available: True (mps), used: True\n",
      "TPU available: False, using: 0 TPU cores\n",
      "HPU available: False, using: 0 HPUs\n",
      "\n",
      "  | Name      | Type               | Params | Mode \n",
      "---------------------------------------------------------\n",
      "0 | model     | ResNet             | 21.3 M | train\n",
      "1 | loss_fn   | CrossEntropyLoss   | 0      | train\n",
      "2 | train_acc | MulticlassAccuracy | 0      | train\n",
      "3 | val_acc   | MulticlassAccuracy | 0      | train\n",
      "---------------------------------------------------------\n",
      "5.1 K     Trainable params\n",
      "21.3 M    Non-trainable params\n",
      "21.3 M    Total params\n",
      "85.159    Total estimated model params size (MB)\n",
      "169       Modules in train mode\n",
      "0         Modules in eval mode\n"
     ]
    },
    {
     "name": "stdout",
     "output_type": "stream",
     "text": [
      "Epoch 9: 100%|██████████| 88/88 [03:31<00:00,  0.42it/s, v_num=3, train_loss=0.807, train_acc=0.746, val_loss=0.929, val_acc=0.692] "
     ]
    },
    {
     "name": "stderr",
     "output_type": "stream",
     "text": [
      "`Trainer.fit` stopped: `max_epochs=10` reached.\n"
     ]
    },
    {
     "name": "stdout",
     "output_type": "stream",
     "text": [
      "Epoch 9: 100%|██████████| 88/88 [03:32<00:00,  0.41it/s, v_num=3, train_loss=0.807, train_acc=0.746, val_loss=0.929, val_acc=0.692]\n"
     ]
    }
   ],
   "source": [
    "# 모델 및 데이터 준비\n",
    "model = LitCIFAR10(lr=0.125)\n",
    "data = CIFAR10DataModule(batch_size=512)\n",
    "\n",
    "# TensorBoardLogger 설정\n",
    "logger = TensorBoardLogger(save_dir=\"tb_logs\", name=\"resnet34_cifar10\")\n",
    "\n",
    "# Trainer 정의\n",
    "trainer = L.Trainer(\n",
    "    max_epochs=10,\n",
    "    accelerator=\"auto\",\n",
    "    logger=logger\n",
    ")\n",
    "\n",
    "# 모델 학습\n",
    "trainer.fit(model, datamodule=data)"
   ]
  },
  {
   "cell_type": "code",
   "execution_count": 7,
   "metadata": {},
   "outputs": [
    {
     "name": "stdout",
     "output_type": "stream",
     "text": [
      "TensorFlow installation not found - running with reduced feature set.\n",
      "Serving TensorBoard on localhost; to expose to the network, use a proxy or pass --bind_all\n",
      "TensorBoard 2.19.0 at http://localhost:6006/ (Press CTRL+C to quit)\n",
      "^C\n"
     ]
    }
   ],
   "source": [
    "!tensorboard --logdir=tb_logs"
   ]
  },
  {
   "cell_type": "code",
   "execution_count": null,
   "metadata": {},
   "outputs": [],
   "source": []
  }
 ],
 "metadata": {
  "kernelspec": {
   "display_name": "torch",
   "language": "python",
   "name": "torch"
  },
  "language_info": {
   "codemirror_mode": {
    "name": "ipython",
    "version": 3
   },
   "file_extension": ".py",
   "mimetype": "text/x-python",
   "name": "python",
   "nbconvert_exporter": "python",
   "pygments_lexer": "ipython3",
   "version": "3.10.15"
  }
 },
 "nbformat": 4,
 "nbformat_minor": 2
}
